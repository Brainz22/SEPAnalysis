{
 "cells": [
  {
   "cell_type": "code",
   "execution_count": 8,
   "metadata": {},
   "outputs": [],
   "source": [
    "from pandas.io.json import json_normalize\n",
    "import pandas as pd\n",
    "import numpy as np\n",
    "import matplotlib.pyplot as plt\n",
    "import seaborn as sns"
   ]
  },
  {
   "cell_type": "code",
   "execution_count": 9,
   "metadata": {},
   "outputs": [],
   "source": [
    "Database = pd.read_json(\"Datasets/ARDatabase.json\")"
   ]
  },
  {
   "attachments": {},
   "cell_type": "markdown",
   "metadata": {},
   "source": [
    "Matplotlib supports latex strings. Thus, it is convenient to write the Hale classes as latex strings for improved plots. The dictionary and the loop below do that."
   ]
  },
  {
   "cell_type": "code",
   "execution_count": 11,
   "metadata": {},
   "outputs": [],
   "source": [
    "hClass= {\"ALPHA\": r'$\\alpha$', \"BETA\": r\"$\\beta$\", \"BETA-DELTA\": r\"$\\beta \\delta$\", \"BETA-GAMMA\": r\"$\\beta \\gamma$\", \\\n",
    "        \"BETA-GAMMA-DELTA\": r\"$\\beta \\gamma \\delta$\", \"DELTA\": r\"$\\delta$\", \"GAMMA\": r\"$\\gamma$\", \"GAMMA-DELTA\": r\"$\\gamma \\delta$\", '': '' }"
   ]
  },
  {
   "cell_type": "code",
   "execution_count": 13,
   "metadata": {},
   "outputs": [
    {
     "data": {
      "text/plain": [
       "array(['ALPHA', 'BETA', 'BETA-GAMMA-DELTA', 'BETA-GAMMA', 'BETA-DELTA',\n",
       "       'GAMMA-DELTA', 'DELTA', 'GAMMA', 'Alpha', 'Beta-Gamma', 'Beta',\n",
       "       'Gamma-Delta', 'Beta-Gamma-Delta', 'Beta-Delta', 'Gamma', ''],\n",
       "      dtype=object)"
      ]
     },
     "execution_count": 13,
     "metadata": {},
     "output_type": "execute_result"
    }
   ],
   "source": [
    "Database.MAGTYPE.unique() # We can see some inconsistencies with the Hale classes. We need them all capital case for the above \n",
    "#   dictionary to work."
   ]
  },
  {
   "cell_type": "code",
   "execution_count": 16,
   "metadata": {},
   "outputs": [],
   "source": [
    "Database.loc[Database['MAGTYPE'] == 'Alpha', 'MAGTYPE'] = \"ALPHA\"\n",
    "Database.loc[Database['MAGTYPE'] == 'Beta-Gamma', 'MAGTYPE'] = \"BETA-GAMMA\"\n",
    "Database.loc[Database['MAGTYPE'] == 'Beta', 'MAGTYPE'] = \"BETA\"\n",
    "Database.loc[Database['MAGTYPE'] == 'Gamma-Delta', 'MAGTYPE'] = \"GAMMA-DELTA\"\n",
    "Database.loc[Database['MAGTYPE'] == 'Beta-Gamma-Delta', 'MAGTYPE'] = \"BETA-GAMMA-DELTA\"\n",
    "Database.loc[Database['MAGTYPE'] == 'Beta-Delta', 'MAGTYPE'] = \"BETA-DELTA\"\n",
    "Database.loc[Database['MAGTYPE'] == 'Gamma', 'MAGTYPE'] = \"GAMMA\""
   ]
  },
  {
   "cell_type": "code",
   "execution_count": 17,
   "metadata": {},
   "outputs": [
    {
     "data": {
      "text/plain": [
       "array(['ALPHA', 'BETA', 'BETA-GAMMA-DELTA', 'BETA-GAMMA', 'BETA-DELTA',\n",
       "       'GAMMA-DELTA', 'DELTA', 'GAMMA', ''], dtype=object)"
      ]
     },
     "execution_count": 17,
     "metadata": {},
     "output_type": "execute_result"
    }
   ],
   "source": [
    "Database.MAGTYPE.unique() #All are capital case now"
   ]
  },
  {
   "cell_type": "code",
   "execution_count": 18,
   "metadata": {},
   "outputs": [],
   "source": [
    "HaleStrings = []\n",
    "for index, row in Database.iterrows():\n",
    "  HaleStrings.append(hClass[row['MAGTYPE']])"
   ]
  },
  {
   "cell_type": "code",
   "execution_count": 19,
   "metadata": {},
   "outputs": [],
   "source": [
    "Database.insert(16, \"HALE\", HaleStrings)"
   ]
  },
  {
   "attachments": {},
   "cell_type": "markdown",
   "metadata": {},
   "source": [
    "Then, we need to separate the McIntosh components stored in the 'z' column to use them independently in our study."
   ]
  },
  {
   "cell_type": "code",
   "execution_count": 21,
   "metadata": {},
   "outputs": [],
   "source": [
    "def Extract(lst, n):\n",
    "    return [item[n] for item in lst]"
   ]
  },
  {
   "cell_type": "code",
   "execution_count": 22,
   "metadata": {},
   "outputs": [],
   "source": [
    "cl = Extract(Database['z'], 0)\n",
    "Pen = Extract(Database['z'], 1)\n",
    "Di = Extract(Database['z'], 2)"
   ]
  },
  {
   "cell_type": "code",
   "execution_count": 23,
   "metadata": {},
   "outputs": [],
   "source": [
    "Database.insert(12, \"CL\", cl)\n",
    "Database.insert(13, \"PEN\", Pen)\n",
    "Database.insert(14, \"DIST\", Di)"
   ]
  },
  {
   "cell_type": "code",
   "execution_count": 25,
   "metadata": {},
   "outputs": [],
   "source": [
    "Database.to_json(\"Datasets/DatabaseBest.json\") # Writes Database to a .json file."
   ]
  },
  {
   "cell_type": "code",
   "execution_count": null,
   "metadata": {},
   "outputs": [],
   "source": []
  }
 ],
 "metadata": {
  "kernelspec": {
   "display_name": "Python 3 (ipykernel)",
   "language": "python",
   "name": "python3"
  },
  "language_info": {
   "codemirror_mode": {
    "name": "ipython",
    "version": 3
   },
   "file_extension": ".py",
   "mimetype": "text/x-python",
   "name": "python",
   "nbconvert_exporter": "python",
   "pygments_lexer": "ipython3",
   "version": "3.8.17"
  },
  "orig_nbformat": 4
 },
 "nbformat": 4,
 "nbformat_minor": 2
}
